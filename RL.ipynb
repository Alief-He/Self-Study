{
 "cells": [
  {
   "cell_type": "code",
   "execution_count": 1,
   "id": "8ee2f4e0-5351-445a-a737-65e4e37b920a",
   "metadata": {
    "execution": {
     "iopub.execute_input": "2025-06-13T09:18:02.978556Z",
     "iopub.status.busy": "2025-06-13T09:18:02.978293Z",
     "iopub.status.idle": "2025-06-13T09:18:03.042144Z",
     "shell.execute_reply": "2025-06-13T09:18:03.040576Z",
     "shell.execute_reply.started": "2025-06-13T09:18:02.978539Z"
    }
   },
   "outputs": [],
   "source": [
    "import numpy as np\n",
    "import random"
   ]
  },
  {
   "cell_type": "code",
   "execution_count": 2,
   "id": "eb012b71-6017-4e73-8ebd-5d11bcaaa9e8",
   "metadata": {
    "execution": {
     "iopub.execute_input": "2025-06-13T09:18:03.043182Z",
     "iopub.status.busy": "2025-06-13T09:18:03.042814Z",
     "iopub.status.idle": "2025-06-13T09:18:03.051176Z",
     "shell.execute_reply": "2025-06-13T09:18:03.050576Z",
     "shell.execute_reply.started": "2025-06-13T09:18:03.043158Z"
    }
   },
   "outputs": [],
   "source": [
    "class GridGenerator:\n",
    "    def __init__(self, grid_height, grid_length, forbidden_num=None, target_num=1):\n",
    "        self.grid_height, self.grid_length = grid_height, grid_length  \n",
    "        self.target_num = target_num\n",
    "        self.forbidden_num = forbidden_num if forbidden_num else grid_height * grid_length // 3\n",
    "        \n",
    "        self.grid = np.zeros((grid_height + 2, grid_length + 2))\n",
    "        self.grid[0, :], self.grid[-1, :], self.grid[:, 0], self.grid[:, -1] = -1, -1, -1, -1\n",
    "\n",
    "        self._generate_forbidden()\n",
    "        self._generate_target()\n",
    "\n",
    "    def _generate_forbidden(self):\n",
    "        for _ in range(self.forbidden_num):\n",
    "            self.grid[random.randint(1, self.grid_height), random.randint(1, self.grid_length)] = 1\n",
    "\n",
    "    def _generate_target(self):\n",
    "        for _ in range(self.target_num):\n",
    "            self.grid[random.randint(1, self.grid_height), random.randint(1, self.grid_length)] = 2"
   ]
  },
  {
   "cell_type": "code",
   "execution_count": 3,
   "id": "b194af87-82f2-4401-b79b-cc21ea662977",
   "metadata": {
    "execution": {
     "iopub.execute_input": "2025-06-13T09:18:03.052046Z",
     "iopub.status.busy": "2025-06-13T09:18:03.051827Z",
     "iopub.status.idle": "2025-06-13T09:18:03.064221Z",
     "shell.execute_reply": "2025-06-13T09:18:03.063614Z",
     "shell.execute_reply.started": "2025-06-13T09:18:03.052026Z"
    }
   },
   "outputs": [],
   "source": [
    "class Action:\n",
    "    def __init__(self, grid):\n",
    "        self.grid = grid\n",
    "\n",
    "    def __call__(self, position, action):\n",
    "        x, y = position\n",
    "        if action == '⬅️':\n",
    "            return (x, y - 1, self.value_func((x, y - 1))) if self._check_boundary(x, y - 1) else (x, y, self.value_func((x, y - 1)))\n",
    "        elif action == '➡️':\n",
    "            return (x, y + 1, self.value_func((x, y + 1))) if self._check_boundary(x, y + 1) else (x, y, self.value_func((x, y + 1)))\n",
    "        elif action == '⬆️':\n",
    "            return (x - 1, y, self.value_func((x - 1, y))) if self._check_boundary(x - 1, y) else (x, y, self.value_func((x - 1, y)))\n",
    "        elif action == '⬇️':\n",
    "            return (x + 1, y, self.value_func((x + 1, y))) if self._check_boundary(x + 1, y) else (x, y, self.value_func((x + 1, y)))\n",
    "        else:\n",
    "            return (x, y, self.value_func((x, y)))\n",
    "\n",
    "    def _check_boundary(self, x, y):\n",
    "        return x > 0 and x <= self.grid.grid_height and y > 0 and y <= self.grid.grid_length\n",
    "\n",
    "    def value_func(self, end):\n",
    "        x, y = end\n",
    "        end_status = self.grid.grid[x, y]\n",
    "        if end_status == -1:\n",
    "            return -100\n",
    "        elif end_status == 1:\n",
    "            return -300\n",
    "        elif end_status == 2:\n",
    "            return 500\n",
    "        else:\n",
    "            return 0"
   ]
  },
  {
   "cell_type": "code",
   "execution_count": 4,
   "id": "89703c47-e5ef-4a9a-b8a9-68250ed0f783",
   "metadata": {
    "execution": {
     "iopub.execute_input": "2025-06-13T09:18:03.065100Z",
     "iopub.status.busy": "2025-06-13T09:18:03.064858Z",
     "iopub.status.idle": "2025-06-13T09:18:03.076483Z",
     "shell.execute_reply": "2025-06-13T09:18:03.075903Z",
     "shell.execute_reply.started": "2025-06-13T09:18:03.065078Z"
    }
   },
   "outputs": [],
   "source": [
    "class Policy:\n",
    "    def __init__(self, grid):\n",
    "        self.grid = grid\n",
    "        self.policy_grid = np.empty((self.grid.grid_height + 2, self.grid.grid_length + 2), dtype='U5')\n",
    "        self._random_policy()\n",
    "\n",
    "    def _random_policy(self):\n",
    "        for i in range(self.grid.grid_height + 2):\n",
    "            for j in range(self.grid.grid_length + 2):\n",
    "                if self.grid.grid[i, j] == -1:\n",
    "                    self.policy_grid[i, j] = '❌'\n",
    "                else:\n",
    "                    self.policy_grid[i, j] = random.choice(['⬅️', '➡️', '⬆️', '⬇️', '⭕️'])"
   ]
  },
  {
   "cell_type": "code",
   "execution_count": 5,
   "id": "f27a646e-fe1b-4e60-8395-f819e96e94fe",
   "metadata": {
    "execution": {
     "iopub.execute_input": "2025-06-13T09:18:03.078195Z",
     "iopub.status.busy": "2025-06-13T09:18:03.077960Z",
     "iopub.status.idle": "2025-06-13T09:18:03.097495Z",
     "shell.execute_reply": "2025-06-13T09:18:03.096373Z",
     "shell.execute_reply.started": "2025-06-13T09:18:03.078175Z"
    }
   },
   "outputs": [],
   "source": [
    "class GridPolicyIteration:\n",
    "    def __init__(self, grid_height, grid_length, forbidden_num=None, target_num=1, gamma=0.95, theta=0.1):\n",
    "        self.state_value_bef, self.state_value_aft = None, None\n",
    "        self.grid = GridGenerator(grid_height, grid_length, forbidden_num, target_num)\n",
    "        self.action_func = Action(self.grid)\n",
    "        self.policy = Policy(self.grid)\n",
    "        \n",
    "        self.gamma = gamma\n",
    "        self.theta = theta\n",
    "    \n",
    "    def _init_state_value(self):\n",
    "        self.state_value_bef = np.zeros((self.grid.grid_height + 2, self.grid.grid_length + 2))\n",
    "        self.state_value_aft = np.ones((self.grid.grid_height + 2, self.grid.grid_length + 2))\n",
    "\n",
    "        \n",
    "    def policy_evaluation(self):\n",
    "        self._init_state_value()\n",
    "\n",
    "        while np.sum(np.abs(self.state_value_bef - self.state_value_aft)) > self.theta:\n",
    "            self.state_value_bef = self.state_value_aft.copy()\n",
    "            for i in range(1, self.grid.grid_height + 1):\n",
    "                for j in range(1, self.grid.grid_length + 1):\n",
    "                    (x, y, immediate_reward) = self.action_func((i, j), self.policy.policy_grid[i, j])\n",
    "                    self.state_value_aft[i, j] = immediate_reward + self.gamma * self.state_value_bef[x, y]\n",
    "\n",
    "    \n",
    "    def policy_improvement(self):\n",
    "        for i in range(1, self.grid.grid_height + 1):\n",
    "            for j in range(1, self.grid.grid_length + 1):\n",
    "                max_action_value = -np.inf\n",
    "                for action in ['⬅️', '➡️', '⬆️', '⬇️', '⭕️']:\n",
    "                    (x, y, immediate_reward) = self.action_func((i, j), action)\n",
    "                    action_value = immediate_reward + self.gamma * self.state_value_bef[x, y]\n",
    "                    if action_value > max_action_value:\n",
    "                        max_action_value = action_value\n",
    "                        self.policy.policy_grid[i, j] = action\n",
    "                "
   ]
  },
  {
   "cell_type": "code",
   "execution_count": 6,
   "id": "c0e72444-90a1-4126-84c5-6469ed2bfcd4",
   "metadata": {
    "execution": {
     "iopub.execute_input": "2025-06-13T09:18:03.098378Z",
     "iopub.status.busy": "2025-06-13T09:18:03.098152Z",
     "iopub.status.idle": "2025-06-13T09:18:03.691513Z",
     "shell.execute_reply": "2025-06-13T09:18:03.690957Z",
     "shell.execute_reply.started": "2025-06-13T09:18:03.098357Z"
    }
   },
   "outputs": [
    {
     "name": "stdout",
     "output_type": "stream",
     "text": [
      "[[-1. -1. -1. -1. -1. -1. -1. -1. -1. -1. -1. -1. -1. -1.]\n",
      " [-1.  1.  0.  0.  0.  1.  0.  0.  0.  0.  0.  1.  0. -1.]\n",
      " [-1.  1.  0.  0.  1.  1.  0.  0.  0.  0.  0.  0.  1. -1.]\n",
      " [-1.  0.  0.  0.  0.  2.  0.  1.  0.  0.  1.  0.  0. -1.]\n",
      " [-1.  1.  1.  0.  0.  1.  0.  0.  0.  0.  0.  0.  0. -1.]\n",
      " [-1.  0.  0.  0.  0.  0.  0.  0.  0.  1.  0.  0.  0. -1.]\n",
      " [-1.  1.  0.  0.  0.  0.  0.  1.  1.  1.  0.  0.  0. -1.]\n",
      " [-1.  1.  0.  0.  0.  1.  0.  1.  0.  1.  0.  1.  0. -1.]\n",
      " [-1.  0.  0.  0.  0.  0.  0.  0.  1.  1.  1.  1.  0. -1.]\n",
      " [-1.  1.  0.  1.  0.  1.  0.  0.  1.  1.  0.  0.  1. -1.]\n",
      " [-1.  0.  0.  0.  1.  1.  0.  0.  1.  0.  0.  0.  0. -1.]\n",
      " [-1.  0.  0.  0.  0.  0.  0.  1.  1.  0.  1.  1.  1. -1.]\n",
      " [-1.  0.  1.  0.  0.  0.  0.  0.  0.  0.  0.  0.  0. -1.]\n",
      " [-1.  0.  0.  0.  0.  1.  1.  0.  1.  1.  2.  1.  0. -1.]\n",
      " [-1.  0.  0.  0.  0.  1.  0.  0.  0.  0.  0.  0.  0. -1.]\n",
      " [-1.  0.  0.  1.  0.  0.  0.  1.  1.  0.  0.  0.  0. -1.]\n",
      " [-1.  0.  1.  0.  0.  1.  0.  0.  0.  0.  1.  1.  1. -1.]\n",
      " [-1.  1.  0.  0.  0.  0.  1.  0.  0.  0.  1.  0.  0. -1.]\n",
      " [-1.  1.  0.  0.  0.  1.  0.  0.  0.  0.  0.  0.  1. -1.]\n",
      " [-1.  0.  0.  0.  0.  0.  0.  0.  0.  0.  0.  0.  0. -1.]\n",
      " [-1.  0.  0.  0.  1.  0.  1.  1.  0.  0.  0.  0.  0. -1.]\n",
      " [-1. -1. -1. -1. -1. -1. -1. -1. -1. -1. -1. -1. -1. -1.]]\n",
      "[['❌' '❌' '❌' '❌' '❌' '❌' '❌' '❌' '❌' '❌' '❌' '❌' '❌' '❌']\n",
      " ['❌' '➡️' '➡️' '⬇️' '⬇️' '⬇️' '⬇️' '⬅️' '⬅️' '⬅️' '⬅️' '⬅️' '⬅️' '❌']\n",
      " ['❌' '➡️' '➡️' '⬇️' '⬇️' '⬇️' '⬇️' '⬅️' '⬅️' '⬅️' '⬅️' '⬅️' '⬅️' '❌']\n",
      " ['❌' '➡️' '➡️' '➡️' '➡️' '⭕️' '⬅️' '⬅️' '⬅️' '⬅️' '⬅️' '⬆️' '⬅️' '❌']\n",
      " ['❌' '⬆️' '➡️' '➡️' '⬆️' '⬆️' '⬆️' '⬅️' '⬅️' '⬅️' '⬅️' '⬅️' '⬅️' '❌']\n",
      " ['❌' '➡️' '➡️' '➡️' '⬆️' '⬆️' '⬆️' '⬅️' '⬅️' '⬅️' '⬆️' '⬅️' '⬅️' '❌']\n",
      " ['❌' '➡️' '➡️' '➡️' '⬆️' '⬆️' '⬆️' '⬅️' '⬆️' '⬅️' '⬆️' '⬅️' '⬅️' '❌']\n",
      " ['❌' '➡️' '➡️' '➡️' '⬆️' '⬆️' '⬆️' '⬅️' '⬅️' '➡️' '⬇️' '⬅️' '⬇️' '❌']\n",
      " ['❌' '➡️' '➡️' '➡️' '⬆️' '⬆️' '⬆️' '⬅️' '⬅️' '⬇️' '⬇️' '⬇️' '⬅️' '❌']\n",
      " ['❌' '➡️' '⬆️' '➡️' '⬆️' '⬆️' '⬆️' '⬅️' '➡️' '⬇️' '⬇️' '⬅️' '⬅️' '❌']\n",
      " ['❌' '➡️' '⬆️' '⬇️' '⬆️' '➡️' '⬇️' '➡️' '➡️' '⬇️' '⬇️' '⬅️' '⬅️' '❌']\n",
      " ['❌' '➡️' '➡️' '➡️' '➡️' '➡️' '⬇️' '⬇️' '➡️' '⬇️' '⬇️' '⬇️' '⬇️' '❌']\n",
      " ['❌' '⬆️' '➡️' '➡️' '➡️' '➡️' '➡️' '➡️' '➡️' '➡️' '⬇️' '⬅️' '⬅️' '❌']\n",
      " ['❌' '➡️' '➡️' '➡️' '⬆️' '⬆️' '➡️' '➡️' '➡️' '➡️' '⭕️' '⬅️' '⬅️' '❌']\n",
      " ['❌' '➡️' '➡️' '➡️' '➡️' '➡️' '➡️' '➡️' '➡️' '➡️' '⬆️' '⬅️' '⬅️' '❌']\n",
      " ['❌' '➡️' '⬆️' '➡️' '➡️' '➡️' '⬆️' '⬆️' '➡️' '➡️' '⬆️' '⬅️' '⬅️' '❌']\n",
      " ['❌' '⬆️' '➡️' '➡️' '⬆️' '➡️' '➡️' '➡️' '➡️' '⬆️' '⬆️' '⬆️' '⬆️' '❌']\n",
      " ['❌' '➡️' '➡️' '➡️' '⬆️' '➡️' '➡️' '➡️' '➡️' '⬆️' '⬆️' '⬆️' '⬅️' '❌']\n",
      " ['❌' '➡️' '➡️' '➡️' '⬆️' '➡️' '➡️' '➡️' '➡️' '⬆️' '⬅️' '⬆️' '⬅️' '❌']\n",
      " ['❌' '➡️' '➡️' '➡️' '➡️' '➡️' '➡️' '➡️' '➡️' '⬆️' '⬅️' '⬆️' '⬅️' '❌']\n",
      " ['❌' '➡️' '➡️' '⬆️' '➡️' '⬆️' '⬆️' '➡️' '➡️' '⬆️' '⬅️' '⬆️' '⬅️' '❌']\n",
      " ['❌' '❌' '❌' '❌' '❌' '❌' '❌' '❌' '❌' '❌' '❌' '❌' '❌' '❌']]\n"
     ]
    }
   ],
   "source": [
    "grid_RL = GridPolicyIteration(20, 12, gamma=0.87, target_num=2)\n",
    "old_policy = None\n",
    "new_policy = grid_RL.policy.policy_grid.copy()\n",
    "while not np.array_equal(old_policy, new_policy):\n",
    "    old_policy = new_policy\n",
    "    grid_RL.policy_evaluation()\n",
    "    grid_RL.policy_improvement()\n",
    "    new_policy = grid_RL.policy.policy_grid.copy()\n",
    "print(grid_RL.grid.grid)\n",
    "print(grid_RL.policy.policy_grid)\n",
    "    "
   ]
  },
  {
   "cell_type": "code",
   "execution_count": null,
   "id": "e89820ea-c876-4207-81a5-45f2e76449f4",
   "metadata": {},
   "outputs": [],
   "source": []
  }
 ],
 "metadata": {
  "kernelspec": {
   "display_name": "Python 3",
   "language": "python",
   "name": "python3"
  },
  "language_info": {
   "codemirror_mode": {
    "name": "ipython",
    "version": 3
   },
   "file_extension": ".py",
   "mimetype": "text/x-python",
   "name": "python",
   "nbconvert_exporter": "python",
   "pygments_lexer": "ipython3",
   "version": "3.8.10"
  }
 },
 "nbformat": 4,
 "nbformat_minor": 5
}
